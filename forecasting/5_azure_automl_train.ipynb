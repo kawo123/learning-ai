{
 "cells": [
  {
   "cell_type": "markdown",
   "metadata": {},
   "source": [
    "<i>Copyright (c) Microsoft Corporation.</i>\n",
    "\n",
    "<i>Licensed under the MIT License.</i> "
   ]
  },
  {
   "cell_type": "markdown",
   "metadata": {},
   "source": [
    "# Automated Machine Learning (AutoML) on Azure for Retail Sales Forecasting\n",
    "\n",
    "This notebook demonstrates how to apply [AutoML in Azure Machine Learning services](https://docs.microsoft.com/en-us/azure/machine-learning/concept-automated-ml) to train and tune machine learning models for forecasting product sales in retail. We will use the Orange Juice dataset to illustrate the steps of utilizing AutoML as well as how to combine an AutoML model with a custom model for better performance.\n",
    "\n",
    "AutoML is a process of automating the tasks of machine learning model development. It helps data scientists and other practitioners build machine learning models with high scalability and quality in less amount of time. AutoML in Azure Machine Learning allows you to train and tune a model using a target metric that you specify. This service iterates through machine learning algorithms and feature selection approaches, producing a score that measures the quality of each machine learning pipeline. The best model will then be selected based on the scores. For more technical details about Azure AutoML, please check [this paper](https://papers.nips.cc/paper/7595-probabilistic-matrix-factorization-for-automated-machine-learning.pdf)."
   ]
  },
  {
   "cell_type": "markdown",
   "metadata": {},
   "source": [
    "## Global Settings and Imports"
   ]
  },
  {
   "cell_type": "code",
   "execution_count": 1,
   "metadata": {},
   "outputs": [],
   "source": [
    "%load_ext autoreload\n",
    "%autoreload 2\n",
    "%matplotlib inline"
   ]
  },
  {
   "cell_type": "code",
   "execution_count": 2,
   "metadata": {},
   "outputs": [
    {
     "name": "stdout",
     "output_type": "stream",
     "text": [
      "System version: 3.6.9 (default, Nov  7 2019, 10:44:02) \n",
      "[GCC 8.3.0]\n",
      "This notebook was created using version 1.0.85 of the Azure ML SDK\n",
      "You are currently using version 1.0.85 of the Azure ML SDK\n"
     ]
    }
   ],
   "source": [
    "import os\n",
    "import sys\n",
    "import math\n",
    "import warnings\n",
    "import datetime\n",
    "import logging\n",
    "import azureml.core\n",
    "import azureml.automl\n",
    "import pandas as pd\n",
    "\n",
    "from matplotlib import pyplot as plt\n",
    "from fclib.azureml.azureml_utils import (\n",
    "    get_or_create_workspace,\n",
    "    get_or_create_amlcompute,\n",
    ")\n",
    "from fclib.dataset.ojdata import download_ojdata, FIRST_WEEK_START\n",
    "from fclib.common.utils import align_outputs\n",
    "from fclib.evaluation.evaluation_utils import MAPE\n",
    "from fclib.models.multiple_linear_regression import fit, predict\n",
    "\n",
    "from azureml.core import Workspace\n",
    "from azureml.core.dataset import Dataset\n",
    "from azureml.core.experiment import Experiment\n",
    "from azureml.core.model import Model\n",
    "from automl.client.core.common import constants\n",
    "from azureml.train.automl import AutoMLConfig\n",
    "from azureml.core.compute import ComputeTarget, AmlCompute\n",
    "from azureml.automl.core._vendor.automl.client.core.common import metrics\n",
    "\n",
    "warnings.filterwarnings(\"ignore\")\n",
    "\n",
    "print(\"System version: {}\".format(sys.version))\n",
    "print(\"This notebook was created using version 1.0.85 of the Azure ML SDK\")\n",
    "print(\"You are currently using version\", azureml.core.VERSION, \"of the Azure ML SDK\")"
   ]
  },
  {
   "cell_type": "code",
   "execution_count": 3,
   "metadata": {},
   "outputs": [],
   "source": [
    "# Data directory\n",
    "DATA_DIR = os.path.join(\"ojdata\")\n",
    "\n",
    "# Forecasting settings\n",
    "GAP = 2\n",
    "LAST_WEEK = 138\n",
    "\n",
    "# Number of test periods\n",
    "NUM_TEST_PERIODS = 3\n",
    "\n",
    "# Column names\n",
    "time_column_name = \"week_start\"\n",
    "target_column_name = \"move\"\n",
    "grain_column_names = [\"store\", \"brand\"]\n",
    "index_column_names = [time_column_name] + grain_column_names\n",
    "\n",
    "# Subset of stores used in the notebook\n",
    "USE_STORES = [2, 5, 8]"
   ]
  },
  {
   "cell_type": "markdown",
   "metadata": {},
   "source": [
    "## Set up Azure Machine Learning Workspace\n",
    "\n",
    "An Azure ML workspace is an Azure resource that organizes and coordinates the actions of many other Azure resources to assist in executing and sharing machine learning workflows. In particular, an Azure ML workspace coordinates storage, databases, and compute resources providing added functionality for machine learning experimentation, deployment, inference, and the monitoring of deployed models. To create an Azure ML workspace, first you need access to an Azure subscription. An Azure subscription allows you to manage storage, compute, and other assets in the Azure cloud. You can [create a new subscription](https://azure.microsoft.com/en-us/free/) or access existing subscription information from the [Azure portal](https://portal.azure.com/). Given that you have access to your Azure subscription, you can further create an Azure ML workspace by following the instructions [here](https://docs.microsoft.com/en-us/azure/machine-learning/how-to-manage-workspace). You can also do so [using Azure CLI](https://docs.microsoft.com/en-us/azure/machine-learning/how-to-manage-workspace-cli) or the `Workspace.create()` method in Azure SDK.\n",
    "\n",
    "Once you have created an Azure ML workspace, you can download its configuration file (`config.json`) from Azure Portal as follows\n",
    "\n",
    "<img src=\"https://user-images.githubusercontent.com/20047467/76651752-8827b180-653b-11ea-942d-99cf0bdc4f96.png\" width=\"900\" height=\"320\">"
   ]
  },
  {
   "cell_type": "markdown",
   "metadata": {},
   "source": [
    "### Prepare Azure ML Workspace\n",
    "\n",
    "In the following cell, `get_or_create_workspace()` creates a workspace object from the details stored in `config.json` that you have downloaded. We assume that you store this config file to a directory `./.azureml`. In case the existing workspace cannot be loaded, the following cell will try to create a new workspace with the subscription ID, resource group, and workspace name as specified in the beginning of the cell.\n",
    "\n",
    "The cell can fail if you don't have permission to access the workspace. You may need to log into your Azure account and change the default subscription to the one which the workspace belongs to using Azure CLI `az account set --subscription <name or id>`."
   ]
  },
  {
   "cell_type": "code",
   "execution_count": null,
   "metadata": {},
   "outputs": [],
   "source": [
    "# Please specify the AzureML workspace attributes below if you want to create a new one.\n",
    "subscription_id = \"<subscription-id>\"\n",
    "resource_group = \"<resource-group>\"\n",
    "workspace_name = \"<workspace-name>\"\n",
    "workspace_region = \"<workspace-region>\"\n",
    "\n",
    "# Connect to a workspace\n",
    "ws = get_or_create_workspace(\n",
    "    config_path=\"./.azureml\",\n",
    "    subscription_id=subscription_id,\n",
    "    resource_group=resource_group,\n",
    "    workspace_name=workspace_name,\n",
    "    workspace_region=workspace_region,\n",
    ")\n",
    "print(\n",
    "    \"Workspace name: \" + ws.name,\n",
    "    \"Azure region: \" + ws.location,\n",
    "    \"Resource group: \" + ws.resource_group,\n",
    "    sep=\"\\n\",\n",
    ")"
   ]
  },
  {
   "cell_type": "markdown",
   "metadata": {},
   "source": [
    "### Create compute resources for your experiments\n",
    "\n",
    "We run AutoML on a dynamically scalable compute cluster. In the next cell, we create an AmlCompute target with a specific cluster name, VM size, and maximum number of nodes if the cluster does not exist. Otherwise, we will reuse an existing one. For more options of VM sizes, please check the information in this [link](https://docs.microsoft.com/en-us/azure/virtual-machines/sizes-general)."
   ]
  },
  {
   "cell_type": "code",
   "execution_count": 5,
   "metadata": {},
   "outputs": [
    {
     "name": "stdout",
     "output_type": "stream",
     "text": [
      "Found compute target: cpu-cluster\n",
      "Rescaling to 4 nodes\n",
      "Updating\n",
      "AmlCompute wait for completion finished\n",
      "\n",
      "Minimum number of nodes requested have been provisioned\n"
     ]
    }
   ],
   "source": [
    "# Choose a name for your cluster\n",
    "cluster_name = \"cpu-cluster\"\n",
    "# VM Size\n",
    "vm_size = \"STANDARD_D2_V2\"\n",
    "# Maximum number of nodes of the cluster\n",
    "max_nodes = 4\n",
    "\n",
    "# Create a new AmlCompute if it does not exist or reuse an existing one\n",
    "cpu_cluster = get_or_create_amlcompute(\n",
    "    workspace=ws,\n",
    "    compute_name=cluster_name,\n",
    "    vm_size=vm_size,\n",
    "    min_nodes=0,\n",
    "    max_nodes=max_nodes,\n",
    "    verbose=True,\n",
    ")"
   ]
  },
  {
   "cell_type": "markdown",
   "metadata": {},
   "source": [
    "### Define Experiment\n",
    "\n",
    "To run AutoML, you need to create an Experiment. An Experiment corresponds to a prediction problem you are trying to solve, while a Run corresponds to a specific approach to the problem."
   ]
  },
  {
   "cell_type": "code",
   "execution_count": null,
   "metadata": {},
   "outputs": [],
   "source": [
    "# choose a name for the run history container in the workspace\n",
    "experiment_name = \"automl-ojforecasting\"\n",
    "\n",
    "experiment = Experiment(ws, experiment_name)\n",
    "\n",
    "output = {}\n",
    "output[\"SDK version\"] = azureml.core.VERSION\n",
    "output[\"Workspace\"] = ws.name\n",
    "output[\"SKU\"] = ws.sku\n",
    "output[\"Resource Group\"] = ws.resource_group\n",
    "output[\"Location\"] = ws.location\n",
    "output[\"Run History Name\"] = experiment_name\n",
    "pd.set_option(\"display.max_colwidth\", -1)\n",
    "outputDf = pd.DataFrame(data=output, index=[\"\"])\n",
    "outputDf.T"
   ]
  },
  {
   "cell_type": "markdown",
   "metadata": {},
   "source": [
    "## Data Preparation\n",
    "\n",
    "We need to split the Orange Juice data into training and test sets. By default, the following cell will download and spit the data. If you've already done so, you may skip this part by switching `DOWNLOAD_SPLIT_DATA` to `False`.\n",
    "\n",
    "We store the training data and test data using dataframes. The training data includes `train_df` and `aux_df` with `train_df` containing the historical sales up to week 135 (the time we make forecasts) and `aux_df` containing price/promotion information up until week 138. We assume that future price and promotion information up to a certain number of weeks ahead is predetermined and known. The test data is stored in `test_df` which contains the sales of each product in week 137 and 138. Assuming the current week is week 135, our goal is to forecast the sales in week 137 and 138 using the training data. There is a one-week gap between the current week and the first target week of forecasting as we want to leave time for planning inventory in practice."
   ]
  },
  {
   "cell_type": "markdown",
   "metadata": {},
   "source": [
    "### Data split"
   ]
  },
  {
   "cell_type": "code",
   "execution_count": 7,
   "metadata": {},
   "outputs": [],
   "source": [
    "df = pd.read_csv(os.path.join(DATA_DIR, \"yx.csv\"))\n",
    "df = df.loc[df.week <= LAST_WEEK]"
   ]
  },
  {
   "cell_type": "code",
   "execution_count": 8,
   "metadata": {},
   "outputs": [],
   "source": [
    "# Convert logarithm of the unit sales to unit sales\n",
    "df[\"move\"] = df[\"logmove\"].apply(lambda x: round(math.exp(x)))\n",
    "# Add timestamp column\n",
    "df[\"week_start\"] = df[\"week\"].apply(lambda x: FIRST_WEEK_START + datetime.timedelta(days=(x - 1) * 7))\n",
    "# Select a subset of stores for demo purpose\n",
    "df_sub = df[df.store.isin(USE_STORES)]"
   ]
  },
  {
   "cell_type": "code",
   "execution_count": 9,
   "metadata": {},
   "outputs": [],
   "source": [
    "# Split data into training and test sets\n",
    "def split_last_n_by_grain(df, n):\n",
    "    \"\"\"Group df by grain and split on last n rows for each group.\"\"\"\n",
    "    df_grouped = df.sort_values(time_column_name).groupby(  # Sort by ascending time\n",
    "        grain_column_names, group_keys=False\n",
    "    )\n",
    "    df_head = df_grouped.apply(lambda dfg: dfg.iloc[:-n])\n",
    "    df_tail = df_grouped.apply(lambda dfg: dfg.iloc[-n:])\n",
    "    return df_head, df_tail\n",
    "\n",
    "\n",
    "train_df, test_df = split_last_n_by_grain(df_sub, NUM_TEST_PERIODS)\n",
    "train_df.reset_index(drop=True)\n",
    "test_df.reset_index(drop=True)\n",
    "\n",
    "# Save data locally\n",
    "local_data_pathes = [\n",
    "    os.path.join(DATA_DIR, \"train.csv\"),\n",
    "    os.path.join(DATA_DIR, \"test.csv\"),\n",
    "]\n",
    "\n",
    "train_df.to_csv(local_data_pathes[0], index=None, header=True)\n",
    "test_df.to_csv(local_data_pathes[1], index=None, header=True)"
   ]
  },
  {
   "cell_type": "markdown",
   "metadata": {},
   "source": [
    "### Upload data to datastore\n",
    "\n",
    "The [Machine Learning service workspace](https://docs.microsoft.com/en-us/azure/machine-learning/service/concept-workspace), is paired with the storage account, which contains the default data store. We will use it to upload the train and test data and create [tabular datasets](https://docs.microsoft.com/en-us/python/api/azureml-core/azureml.data.tabulardataset?view=azure-ml-py) for training and testing. A tabular dataset defines a series of lazily-evaluated, immutable operations to load data from the data source into tabular representation.\n"
   ]
  },
  {
   "cell_type": "code",
   "execution_count": 10,
   "metadata": {},
   "outputs": [
    {
     "name": "stdout",
     "output_type": "stream",
     "text": [
      "Uploading an estimated of 2 files\n",
      "Uploading ojdata/test.csv\n",
      "Uploading ojdata/train.csv\n",
      "Uploaded ojdata/test.csv, 1 files out of an estimated total of 2\n",
      "Uploaded ojdata/train.csv, 2 files out of an estimated total of 2\n",
      "Uploaded 2 files\n"
     ]
    },
    {
     "data": {
      "text/plain": [
       "$AZUREML_DATAREFERENCE_d4b75808692b4fe6aea7563ae3929c60"
      ]
     },
     "execution_count": 10,
     "metadata": {},
     "output_type": "execute_result"
    }
   ],
   "source": [
    "datastore = ws.get_default_datastore()\n",
    "datastore.upload_files(files=local_data_pathes, target_path=\"dataset/\", overwrite=True, show_progress=True)"
   ]
  },
  {
   "cell_type": "markdown",
   "metadata": {},
   "source": [
    "### Create dataset for training"
   ]
  },
  {
   "cell_type": "code",
   "execution_count": 11,
   "metadata": {},
   "outputs": [],
   "source": [
    "train_dataset = Dataset.Tabular.from_delimited_files(path=datastore.path(\"dataset/train.csv\"))"
   ]
  },
  {
   "cell_type": "code",
   "execution_count": 12,
   "metadata": {},
   "outputs": [
    {
     "data": {
      "text/html": [
       "<div>\n",
       "<style scoped>\n",
       "    .dataframe tbody tr th:only-of-type {\n",
       "        vertical-align: middle;\n",
       "    }\n",
       "\n",
       "    .dataframe tbody tr th {\n",
       "        vertical-align: top;\n",
       "    }\n",
       "\n",
       "    .dataframe thead th {\n",
       "        text-align: right;\n",
       "    }\n",
       "</style>\n",
       "<table border=\"1\" class=\"dataframe\">\n",
       "  <thead>\n",
       "    <tr style=\"text-align: right;\">\n",
       "      <th></th>\n",
       "      <th>store</th>\n",
       "      <th>brand</th>\n",
       "      <th>week</th>\n",
       "      <th>logmove</th>\n",
       "      <th>constant</th>\n",
       "      <th>price1</th>\n",
       "      <th>price2</th>\n",
       "      <th>price3</th>\n",
       "      <th>price4</th>\n",
       "      <th>price5</th>\n",
       "      <th>...</th>\n",
       "      <th>price7</th>\n",
       "      <th>price8</th>\n",
       "      <th>price9</th>\n",
       "      <th>price10</th>\n",
       "      <th>price11</th>\n",
       "      <th>deal</th>\n",
       "      <th>feat</th>\n",
       "      <th>profit</th>\n",
       "      <th>move</th>\n",
       "      <th>week_start</th>\n",
       "    </tr>\n",
       "  </thead>\n",
       "  <tbody>\n",
       "    <tr>\n",
       "      <th>2976</th>\n",
       "      <td>8</td>\n",
       "      <td>11</td>\n",
       "      <td>131</td>\n",
       "      <td>10.404990</td>\n",
       "      <td>1</td>\n",
       "      <td>0.027969</td>\n",
       "      <td>0.043646</td>\n",
       "      <td>0.043594</td>\n",
       "      <td>0.032344</td>\n",
       "      <td>0.031094</td>\n",
       "      <td>...</td>\n",
       "      <td>0.039844</td>\n",
       "      <td>0.031094</td>\n",
       "      <td>0.024844</td>\n",
       "      <td>0.024688</td>\n",
       "      <td>0.023359</td>\n",
       "      <td>0</td>\n",
       "      <td>0.0</td>\n",
       "      <td>5.52</td>\n",
       "      <td>33024</td>\n",
       "      <td>1992-03-12</td>\n",
       "    </tr>\n",
       "    <tr>\n",
       "      <th>2977</th>\n",
       "      <td>8</td>\n",
       "      <td>11</td>\n",
       "      <td>132</td>\n",
       "      <td>10.385420</td>\n",
       "      <td>1</td>\n",
       "      <td>0.027969</td>\n",
       "      <td>0.043646</td>\n",
       "      <td>0.043594</td>\n",
       "      <td>0.042031</td>\n",
       "      <td>0.031094</td>\n",
       "      <td>...</td>\n",
       "      <td>0.031094</td>\n",
       "      <td>0.031094</td>\n",
       "      <td>0.024844</td>\n",
       "      <td>0.024688</td>\n",
       "      <td>0.023359</td>\n",
       "      <td>1</td>\n",
       "      <td>1.0</td>\n",
       "      <td>5.48</td>\n",
       "      <td>32384</td>\n",
       "      <td>1992-03-19</td>\n",
       "    </tr>\n",
       "    <tr>\n",
       "      <th>2978</th>\n",
       "      <td>8</td>\n",
       "      <td>11</td>\n",
       "      <td>133</td>\n",
       "      <td>9.373819</td>\n",
       "      <td>1</td>\n",
       "      <td>0.045156</td>\n",
       "      <td>0.043646</td>\n",
       "      <td>0.043594</td>\n",
       "      <td>0.031094</td>\n",
       "      <td>0.037344</td>\n",
       "      <td>...</td>\n",
       "      <td>0.031094</td>\n",
       "      <td>0.031094</td>\n",
       "      <td>0.020156</td>\n",
       "      <td>0.024688</td>\n",
       "      <td>0.023359</td>\n",
       "      <td>0</td>\n",
       "      <td>0.0</td>\n",
       "      <td>5.38</td>\n",
       "      <td>11776</td>\n",
       "      <td>1992-03-26</td>\n",
       "    </tr>\n",
       "    <tr>\n",
       "      <th>2979</th>\n",
       "      <td>8</td>\n",
       "      <td>11</td>\n",
       "      <td>134</td>\n",
       "      <td>9.340667</td>\n",
       "      <td>1</td>\n",
       "      <td>0.039062</td>\n",
       "      <td>0.043646</td>\n",
       "      <td>0.043594</td>\n",
       "      <td>0.031094</td>\n",
       "      <td>0.031094</td>\n",
       "      <td>...</td>\n",
       "      <td>0.039844</td>\n",
       "      <td>0.031094</td>\n",
       "      <td>0.020156</td>\n",
       "      <td>0.024688</td>\n",
       "      <td>0.023359</td>\n",
       "      <td>0</td>\n",
       "      <td>0.0</td>\n",
       "      <td>7.16</td>\n",
       "      <td>11392</td>\n",
       "      <td>1992-04-02</td>\n",
       "    </tr>\n",
       "    <tr>\n",
       "      <th>2980</th>\n",
       "      <td>8</td>\n",
       "      <td>11</td>\n",
       "      <td>135</td>\n",
       "      <td>10.514991</td>\n",
       "      <td>1</td>\n",
       "      <td>0.039062</td>\n",
       "      <td>0.043646</td>\n",
       "      <td>0.043594</td>\n",
       "      <td>0.042031</td>\n",
       "      <td>0.031094</td>\n",
       "      <td>...</td>\n",
       "      <td>0.039844</td>\n",
       "      <td>0.029531</td>\n",
       "      <td>0.026406</td>\n",
       "      <td>0.024688</td>\n",
       "      <td>0.023359</td>\n",
       "      <td>1</td>\n",
       "      <td>1.0</td>\n",
       "      <td>8.29</td>\n",
       "      <td>36864</td>\n",
       "      <td>1992-04-09</td>\n",
       "    </tr>\n",
       "  </tbody>\n",
       "</table>\n",
       "<p>5 rows × 21 columns</p>\n",
       "</div>"
      ],
      "text/plain": [
       "      store  brand  week    logmove  constant    price1    price2    price3  \\\n",
       "2976  8      11     131   10.404990  1         0.027969  0.043646  0.043594   \n",
       "2977  8      11     132   10.385420  1         0.027969  0.043646  0.043594   \n",
       "2978  8      11     133   9.373819   1         0.045156  0.043646  0.043594   \n",
       "2979  8      11     134   9.340667   1         0.039062  0.043646  0.043594   \n",
       "2980  8      11     135   10.514991  1         0.039062  0.043646  0.043594   \n",
       "\n",
       "        price4    price5     ...        price7    price8    price9   price10  \\\n",
       "2976  0.032344  0.031094     ...      0.039844  0.031094  0.024844  0.024688   \n",
       "2977  0.042031  0.031094     ...      0.031094  0.031094  0.024844  0.024688   \n",
       "2978  0.031094  0.037344     ...      0.031094  0.031094  0.020156  0.024688   \n",
       "2979  0.031094  0.031094     ...      0.039844  0.031094  0.020156  0.024688   \n",
       "2980  0.042031  0.031094     ...      0.039844  0.029531  0.026406  0.024688   \n",
       "\n",
       "       price11  deal  feat  profit   move  week_start  \n",
       "2976  0.023359  0     0.0   5.52    33024 1992-03-12   \n",
       "2977  0.023359  1     1.0   5.48    32384 1992-03-19   \n",
       "2978  0.023359  0     0.0   5.38    11776 1992-03-26   \n",
       "2979  0.023359  0     0.0   7.16    11392 1992-04-02   \n",
       "2980  0.023359  1     1.0   8.29    36864 1992-04-09   \n",
       "\n",
       "[5 rows x 21 columns]"
      ]
     },
     "execution_count": 12,
     "metadata": {},
     "output_type": "execute_result"
    }
   ],
   "source": [
    "train_dataset.to_pandas_dataframe().tail()"
   ]
  },
  {
   "cell_type": "markdown",
   "metadata": {},
   "source": [
    "## Modeling\n",
    "\n",
    "For forecasting tasks, AutoML uses pre-processing and estimation steps that are specific to time-series. AutoML will undertake the following pre-processing steps:\n",
    "* Detect time-series sample frequency (e.g. hourly, daily, weekly) and create new records for absent time points to make the series regular. A regular time series has a well-defined frequency and has a value at every sample point in a contiguous time span\n",
    "* Impute missing values in the target (via forward-fill) and feature columns (using median column values)\n",
    "* Create grain-based features to enable fixed effects across different series\n",
    "* Create time-based features to assist in learning seasonal patterns\n",
    "* Encode categorical variables to numeric quantities\n",
    "\n",
    "In this notebook, AutoML will train a single, regression-type model across all time-series in a given training set. This allows the model to generalize across related series. To create a training job, we use AutoML Config object to define the settings and data. Here is a summary of the meanings of the AutoMLConfig parameters:\n",
    "\n",
    "|Property|Description|\n",
    "|-|-|\n",
    "|**task**|forecasting|\n",
    "|**primary_metric**|This is the metric that you want to optimize.<br> Forecasting supports the following primary metrics <br><i>spearman_correlation</i><br><i>normalized_root_mean_squared_error</i><br><i>r2_score</i><br><i>normalized_mean_absolute_error</i>\n",
    "|**experiment_timeout_hours**|Experimentation timeout in hours.|\n",
    "|**enable_early_stopping**|If early stopping is on, training will stop when the primary metric is no longer improving.|\n",
    "|**training_data**|Input dataset, containing both features and label column.|\n",
    "|**label_column_name**|The name of the label column.|\n",
    "|**compute_target**|The remote compute for training.|\n",
    "|**n_cross_validations**|Number of cross-validation folds to use for model/pipeline selection|\n",
    "|**enable_voting_ensemble**|Allow AutoML to create a Voting ensemble of the best performing models|\n",
    "|**enable_stack_ensemble**|Allow AutoML to create a Stack ensemble of the best performing models|\n",
    "|**debug_log**|Log file path for writing debugging information|\n",
    "|**time_column_name**|Name of the datetime column in the input data|\n",
    "|**grain_column_names**|Name(s) of the columns defining individual series in the input data|\n",
    "|**drop_column_names**|Name(s) of columns to drop prior to modeling|\n",
    "|**max_horizon**|Maximum desired forecast horizon in units of time-series frequency|"
   ]
  },
  {
   "cell_type": "markdown",
   "metadata": {},
   "source": [
    "### Model training"
   ]
  },
  {
   "cell_type": "code",
   "execution_count": 13,
   "metadata": {},
   "outputs": [],
   "source": [
    "time_series_settings = {\n",
    "    \"time_column_name\": time_column_name,\n",
    "    \"grain_column_names\": grain_column_names,\n",
    "    \"drop_column_names\": [\"logmove\"],  # 'logmove' is a leaky feature, so we remove it.\n",
    "    \"max_horizon\": NUM_TEST_PERIODS,\n",
    "}\n",
    "\n",
    "automl_config = AutoMLConfig(\n",
    "    task=\"forecasting\",\n",
    "    debug_log=\"automl_oj_sales_errors.log\",\n",
    "    primary_metric=\"normalized_mean_absolute_error\",\n",
    "    experiment_timeout_hours=1.0,  # You may increase this number to improve model accuracy\n",
    "    training_data=train_dataset,\n",
    "    label_column_name=target_column_name,\n",
    "    compute_target=cpu_cluster,\n",
    "    enable_early_stopping=True,\n",
    "    n_cross_validations=3,\n",
    "    verbosity=logging.INFO,\n",
    "    **time_series_settings\n",
    ")"
   ]
  },
  {
   "cell_type": "code",
   "execution_count": 14,
   "metadata": {},
   "outputs": [
    {
     "data": {
      "text/html": [
       "<table style=\"width:100%\"><tr><th>Experiment</th><th>Id</th><th>Type</th><th>Status</th><th>Details Page</th><th>Docs Page</th></tr><tr><td>automl-ojforecasting-test</td><td>AutoML_12ee1cb2-3442-4092-a09e-b5a06647b845</td><td>automl</td><td>Starting</td><td><a href=\"https://ml.azure.com/experiments/automl-ojforecasting-test/runs/AutoML_12ee1cb2-3442-4092-a09e-b5a06647b845?wsid=/subscriptions/7c9d382c-5964-48db-9cf6-c595c7ba4339/resourcegroups/novanta-mdw-rg/workspaces/novanta-mdw-aml\" target=\"_blank\" rel=\"noopener\">Link to Azure Machine Learning studio</a></td><td><a href=\"https://docs.microsoft.com/en-us/python/api/overview/azure/ml/intro?view=azure-ml-py\" target=\"_blank\" rel=\"noopener\">Link to Documentation</a></td></tr></table>"
      ],
      "text/plain": [
       "Run(Experiment: automl-ojforecasting-test,\n",
       "Id: AutoML_12ee1cb2-3442-4092-a09e-b5a06647b845,\n",
       "Type: automl,\n",
       "Status: Starting)"
      ]
     },
     "execution_count": 14,
     "metadata": {},
     "output_type": "execute_result"
    }
   ],
   "source": [
    "remote_run = experiment.submit(automl_config, show_output=False)\n",
    "remote_run"
   ]
  },
  {
   "cell_type": "code",
   "execution_count": 15,
   "metadata": {},
   "outputs": [
    {
     "data": {
      "text/plain": [
       "{'runId': 'AutoML_12ee1cb2-3442-4092-a09e-b5a06647b845',\n",
       " 'target': 'cpu-cluster',\n",
       " 'status': 'Completed',\n",
       " 'startTimeUtc': '2020-05-13T17:42:54.119105Z',\n",
       " 'endTimeUtc': '2020-05-13T18:46:01.363453Z',\n",
       " 'properties': {'num_iterations': '1000',\n",
       "  'training_type': 'TrainFull',\n",
       "  'acquisition_function': 'EI',\n",
       "  'primary_metric': 'normalized_mean_absolute_error',\n",
       "  'train_split': '0',\n",
       "  'acquisition_parameter': '0',\n",
       "  'num_cross_validation': '3',\n",
       "  'target': 'cpu-cluster',\n",
       "  'RawAMLSettingsString': \"{'name': 'automl-ojforecasting-test', 'path': None, 'subscription_id': '7c9d382c-5964-48db-9cf6-c595c7ba4339', 'resource_group': 'novanta-mdw-rg', 'workspace_name': 'novanta-mdw-aml', 'region': 'eastus', 'compute_target': 'cpu-cluster', 'spark_service': None, 'azure_service': None, 'iterations': 1000, 'primary_metric': 'normalized_mean_absolute_error', 'task_type': 'regression', 'data_script': None, 'validation_size': 0.0, 'n_cross_validations': 3, 'y_min': None, 'y_max': None, 'num_classes': None, 'featurization': 'auto', 'lag_length': 0, 'is_timeseries': True, 'max_cores_per_iteration': 1, 'max_concurrent_iterations': 1, 'iteration_timeout_minutes': None, 'mem_in_mb': None, 'enforce_time_on_windows': False, 'experiment_timeout_minutes': 60, 'experiment_exit_score': None, 'whitelist_models': None, 'blacklist_algos': ['Prophet'], 'supported_models': ['XGBoostRegressor', 'SGD', 'ElasticNet', 'ExtremeRandomTrees', 'DecisionTree', 'LassoLars', 'AutoArima', 'GradientBoosting', 'LightGBM', 'Prophet', 'OnlineGradientDescentRegressor', 'TCNForecaster', 'TensorFlowDNN', 'TensorFlowLinearRegressor', 'KNN', 'RandomForest', 'FastLinearRegressor'], 'auto_blacklist': True, 'blacklist_samples_reached': False, 'exclude_nan_labels': True, 'verbosity': 20, 'debug_log': 'azureml_automl.log', 'show_warnings': False, 'model_explainability': False, 'service_url': None, 'sdk_url': None, 'sdk_packages': None, 'enable_onnx_compatible_models': False, 'enable_split_onnx_featurizer_estimator_models': False, 'vm_type': 'STANDARD_D2_V2', 'telemetry_verbosity': 'INFO', 'send_telemetry': True, 'enable_dnn': False, 'force_text_dnn': False, 'enable_feature_sweeping': False, 'time_column_name': 'week_start', 'grain_column_names': ['store', 'brand'], 'drop_column_names': ['logmove'], 'max_horizon': 3, 'dropna': False, 'overwrite_columns': True, 'transform_dictionary': {'min': '_automl_target_col', 'max': '_automl_target_col', 'mean': '_automl_target_col'}, 'window_size': None, 'country_or_region': None, 'lags': None, 'seasonality': -1, 'use_stl': None, 'short_series_handling': True, 'enable_early_stopping': True, 'early_stopping_n_iters': 10, 'metrics': None, 'enable_ensembling': True, 'enable_stack_ensembling': True, 'ensemble_iterations': 15, 'enable_tf': False, 'enable_cache': True, 'enable_subsampling': False, 'subsample_seed': None, 'enable_nimbusml': False, 'enable_streaming': False, 'label_column_name': 'move', 'weight_column_name': None, 'cost_mode': 0, 'metric_operation': 'minimize', 'preprocess': True}\",\n",
       "  'AMLSettingsJsonString': '{\"name\":\"automl-ojforecasting-test\",\"path\":null,\"subscription_id\":\"7c9d382c-5964-48db-9cf6-c595c7ba4339\",\"resource_group\":\"novanta-mdw-rg\",\"workspace_name\":\"novanta-mdw-aml\",\"region\":\"eastus\",\"compute_target\":\"cpu-cluster\",\"spark_service\":null,\"azure_service\":null,\"iterations\":1000,\"primary_metric\":\"normalized_mean_absolute_error\",\"task_type\":\"regression\",\"data_script\":null,\"validation_size\":0.0,\"n_cross_validations\":3,\"y_min\":null,\"y_max\":null,\"num_classes\":null,\"featurization\":\"auto\",\"lag_length\":0,\"is_timeseries\":true,\"max_cores_per_iteration\":1,\"max_concurrent_iterations\":1,\"iteration_timeout_minutes\":null,\"mem_in_mb\":null,\"enforce_time_on_windows\":false,\"experiment_timeout_minutes\":60,\"experiment_exit_score\":null,\"whitelist_models\":null,\"blacklist_algos\":[\"Prophet\"],\"supported_models\":[\"XGBoostRegressor\",\"SGD\",\"ElasticNet\",\"ExtremeRandomTrees\",\"DecisionTree\",\"LassoLars\",\"AutoArima\",\"GradientBoosting\",\"LightGBM\",\"Prophet\",\"OnlineGradientDescentRegressor\",\"TCNForecaster\",\"TensorFlowDNN\",\"TensorFlowLinearRegressor\",\"KNN\",\"RandomForest\",\"FastLinearRegressor\"],\"auto_blacklist\":true,\"blacklist_samples_reached\":false,\"exclude_nan_labels\":true,\"verbosity\":20,\"debug_log\":\"azureml_automl.log\",\"show_warnings\":false,\"model_explainability\":false,\"service_url\":null,\"sdk_url\":null,\"sdk_packages\":null,\"enable_onnx_compatible_models\":false,\"enable_split_onnx_featurizer_estimator_models\":false,\"vm_type\":\"STANDARD_D2_V2\",\"telemetry_verbosity\":\"INFO\",\"send_telemetry\":true,\"enable_dnn\":false,\"force_text_dnn\":false,\"enable_feature_sweeping\":false,\"time_column_name\":\"week_start\",\"grain_column_names\":[\"store\",\"brand\"],\"drop_column_names\":[\"logmove\"],\"max_horizon\":3,\"dropna\":false,\"overwrite_columns\":true,\"transform_dictionary\":{\"min\":\"_automl_target_col\",\"max\":\"_automl_target_col\",\"mean\":\"_automl_target_col\"},\"window_size\":null,\"country_or_region\":null,\"lags\":null,\"seasonality\":-1,\"use_stl\":null,\"short_series_handling\":true,\"enable_early_stopping\":true,\"early_stopping_n_iters\":10,\"metrics\":null,\"enable_ensembling\":true,\"enable_stack_ensembling\":false,\"ensemble_iterations\":15,\"enable_tf\":false,\"enable_cache\":true,\"enable_subsampling\":false,\"subsample_seed\":null,\"enable_nimbusml\":false,\"enable_streaming\":false,\"label_column_name\":\"move\",\"weight_column_name\":null,\"cost_mode\":0,\"metric_operation\":\"minimize\",\"preprocess\":true}',\n",
       "  'DataPrepJsonString': '{\\\\\"training_data\\\\\": \\\\\"{\\\\\\\\\\\\\"blocks\\\\\\\\\\\\\": [{\\\\\\\\\\\\\"id\\\\\\\\\\\\\": \\\\\\\\\\\\\"8227060c-e76b-4722-a91a-b95c571881ec\\\\\\\\\\\\\", \\\\\\\\\\\\\"type\\\\\\\\\\\\\": \\\\\\\\\\\\\"Microsoft.DPrep.GetDatastoreFilesBlock\\\\\\\\\\\\\", \\\\\\\\\\\\\"arguments\\\\\\\\\\\\\": {\\\\\\\\\\\\\"datastores\\\\\\\\\\\\\": [{\\\\\\\\\\\\\"datastoreName\\\\\\\\\\\\\": \\\\\\\\\\\\\"workspaceblobstore\\\\\\\\\\\\\", \\\\\\\\\\\\\"path\\\\\\\\\\\\\": \\\\\\\\\\\\\"dataset/train.csv\\\\\\\\\\\\\", \\\\\\\\\\\\\"resourceGroup\\\\\\\\\\\\\": \\\\\\\\\\\\\"novanta-mdw-rg\\\\\\\\\\\\\", \\\\\\\\\\\\\"subscription\\\\\\\\\\\\\": \\\\\\\\\\\\\"7c9d382c-5964-48db-9cf6-c595c7ba4339\\\\\\\\\\\\\", \\\\\\\\\\\\\"workspaceName\\\\\\\\\\\\\": \\\\\\\\\\\\\"novanta-mdw-aml\\\\\\\\\\\\\"}]}, \\\\\\\\\\\\\"localData\\\\\\\\\\\\\": {}, \\\\\\\\\\\\\"isEnabled\\\\\\\\\\\\\": true, \\\\\\\\\\\\\"name\\\\\\\\\\\\\": null, \\\\\\\\\\\\\"annotation\\\\\\\\\\\\\": null}, {\\\\\\\\\\\\\"id\\\\\\\\\\\\\": \\\\\\\\\\\\\"c1e014f2-c544-4f25-b1ee-56926dd3f8d5\\\\\\\\\\\\\", \\\\\\\\\\\\\"type\\\\\\\\\\\\\": \\\\\\\\\\\\\"Microsoft.DPrep.ParseDelimitedBlock\\\\\\\\\\\\\", \\\\\\\\\\\\\"arguments\\\\\\\\\\\\\": {\\\\\\\\\\\\\"columnHeadersMode\\\\\\\\\\\\\": 3, \\\\\\\\\\\\\"fileEncoding\\\\\\\\\\\\\": 0, \\\\\\\\\\\\\"handleQuotedLineBreaks\\\\\\\\\\\\\": false, \\\\\\\\\\\\\"preview\\\\\\\\\\\\\": false, \\\\\\\\\\\\\"separator\\\\\\\\\\\\\": \\\\\\\\\\\\\",\\\\\\\\\\\\\", \\\\\\\\\\\\\"skipRows\\\\\\\\\\\\\": 0, \\\\\\\\\\\\\"skipRowsMode\\\\\\\\\\\\\": 0}, \\\\\\\\\\\\\"localData\\\\\\\\\\\\\": {}, \\\\\\\\\\\\\"isEnabled\\\\\\\\\\\\\": true, \\\\\\\\\\\\\"name\\\\\\\\\\\\\": null, \\\\\\\\\\\\\"annotation\\\\\\\\\\\\\": null}, {\\\\\\\\\\\\\"id\\\\\\\\\\\\\": \\\\\\\\\\\\\"ef93fa69-2364-459a-91d7-b98816eed975\\\\\\\\\\\\\", \\\\\\\\\\\\\"type\\\\\\\\\\\\\": \\\\\\\\\\\\\"Microsoft.DPrep.DropColumnsBlock\\\\\\\\\\\\\", \\\\\\\\\\\\\"arguments\\\\\\\\\\\\\": {\\\\\\\\\\\\\"columns\\\\\\\\\\\\\": {\\\\\\\\\\\\\"type\\\\\\\\\\\\\": 0, \\\\\\\\\\\\\"details\\\\\\\\\\\\\": {\\\\\\\\\\\\\"selectedColumns\\\\\\\\\\\\\": [\\\\\\\\\\\\\"Path\\\\\\\\\\\\\"]}}}, \\\\\\\\\\\\\"localData\\\\\\\\\\\\\": {}, \\\\\\\\\\\\\"isEnabled\\\\\\\\\\\\\": true, \\\\\\\\\\\\\"name\\\\\\\\\\\\\": null, \\\\\\\\\\\\\"annotation\\\\\\\\\\\\\": null}, {\\\\\\\\\\\\\"id\\\\\\\\\\\\\": \\\\\\\\\\\\\"9d152729-ed7c-4431-9f2d-a912a899df80\\\\\\\\\\\\\", \\\\\\\\\\\\\"type\\\\\\\\\\\\\": \\\\\\\\\\\\\"Microsoft.DPrep.SetColumnTypesBlock\\\\\\\\\\\\\", \\\\\\\\\\\\\"arguments\\\\\\\\\\\\\": {\\\\\\\\\\\\\"columnConversion\\\\\\\\\\\\\": [{\\\\\\\\\\\\\"column\\\\\\\\\\\\\": {\\\\\\\\\\\\\"type\\\\\\\\\\\\\": 2, \\\\\\\\\\\\\"details\\\\\\\\\\\\\": {\\\\\\\\\\\\\"selectedColumn\\\\\\\\\\\\\": \\\\\\\\\\\\\"store\\\\\\\\\\\\\"}}, \\\\\\\\\\\\\"typeProperty\\\\\\\\\\\\\": 2}, {\\\\\\\\\\\\\"column\\\\\\\\\\\\\": {\\\\\\\\\\\\\"type\\\\\\\\\\\\\": 2, \\\\\\\\\\\\\"details\\\\\\\\\\\\\": {\\\\\\\\\\\\\"selectedColumn\\\\\\\\\\\\\": \\\\\\\\\\\\\"brand\\\\\\\\\\\\\"}}, \\\\\\\\\\\\\"typeProperty\\\\\\\\\\\\\": 2}, {\\\\\\\\\\\\\"column\\\\\\\\\\\\\": {\\\\\\\\\\\\\"type\\\\\\\\\\\\\": 2, \\\\\\\\\\\\\"details\\\\\\\\\\\\\": {\\\\\\\\\\\\\"selectedColumn\\\\\\\\\\\\\": \\\\\\\\\\\\\"week\\\\\\\\\\\\\"}}, \\\\\\\\\\\\\"typeProperty\\\\\\\\\\\\\": 2}, {\\\\\\\\\\\\\"column\\\\\\\\\\\\\": {\\\\\\\\\\\\\"type\\\\\\\\\\\\\": 2, \\\\\\\\\\\\\"details\\\\\\\\\\\\\": {\\\\\\\\\\\\\"selectedColumn\\\\\\\\\\\\\": \\\\\\\\\\\\\"logmove\\\\\\\\\\\\\"}}, \\\\\\\\\\\\\"typeProperty\\\\\\\\\\\\\": 3}, {\\\\\\\\\\\\\"column\\\\\\\\\\\\\": {\\\\\\\\\\\\\"type\\\\\\\\\\\\\": 2, \\\\\\\\\\\\\"details\\\\\\\\\\\\\": {\\\\\\\\\\\\\"selectedColumn\\\\\\\\\\\\\": \\\\\\\\\\\\\"constant\\\\\\\\\\\\\"}}, \\\\\\\\\\\\\"typeProperty\\\\\\\\\\\\\": 2}, {\\\\\\\\\\\\\"column\\\\\\\\\\\\\": {\\\\\\\\\\\\\"type\\\\\\\\\\\\\": 2, \\\\\\\\\\\\\"details\\\\\\\\\\\\\": {\\\\\\\\\\\\\"selectedColumn\\\\\\\\\\\\\": \\\\\\\\\\\\\"price1\\\\\\\\\\\\\"}}, \\\\\\\\\\\\\"typeProperty\\\\\\\\\\\\\": 3}, {\\\\\\\\\\\\\"column\\\\\\\\\\\\\": {\\\\\\\\\\\\\"type\\\\\\\\\\\\\": 2, \\\\\\\\\\\\\"details\\\\\\\\\\\\\": {\\\\\\\\\\\\\"selectedColumn\\\\\\\\\\\\\": \\\\\\\\\\\\\"price2\\\\\\\\\\\\\"}}, \\\\\\\\\\\\\"typeProperty\\\\\\\\\\\\\": 3}, {\\\\\\\\\\\\\"column\\\\\\\\\\\\\": {\\\\\\\\\\\\\"type\\\\\\\\\\\\\": 2, \\\\\\\\\\\\\"details\\\\\\\\\\\\\": {\\\\\\\\\\\\\"selectedColumn\\\\\\\\\\\\\": \\\\\\\\\\\\\"price3\\\\\\\\\\\\\"}}, \\\\\\\\\\\\\"typeProperty\\\\\\\\\\\\\": 3}, {\\\\\\\\\\\\\"column\\\\\\\\\\\\\": {\\\\\\\\\\\\\"type\\\\\\\\\\\\\": 2, \\\\\\\\\\\\\"details\\\\\\\\\\\\\": {\\\\\\\\\\\\\"selectedColumn\\\\\\\\\\\\\": \\\\\\\\\\\\\"price4\\\\\\\\\\\\\"}}, \\\\\\\\\\\\\"typeProperty\\\\\\\\\\\\\": 3}, {\\\\\\\\\\\\\"column\\\\\\\\\\\\\": {\\\\\\\\\\\\\"type\\\\\\\\\\\\\": 2, \\\\\\\\\\\\\"details\\\\\\\\\\\\\": {\\\\\\\\\\\\\"selectedColumn\\\\\\\\\\\\\": \\\\\\\\\\\\\"price5\\\\\\\\\\\\\"}}, \\\\\\\\\\\\\"typeProperty\\\\\\\\\\\\\": 3}, {\\\\\\\\\\\\\"column\\\\\\\\\\\\\": {\\\\\\\\\\\\\"type\\\\\\\\\\\\\": 2, \\\\\\\\\\\\\"details\\\\\\\\\\\\\": {\\\\\\\\\\\\\"selectedColumn\\\\\\\\\\\\\": \\\\\\\\\\\\\"price6\\\\\\\\\\\\\"}}, \\\\\\\\\\\\\"typeProperty\\\\\\\\\\\\\": 3}, {\\\\\\\\\\\\\"column\\\\\\\\\\\\\": {\\\\\\\\\\\\\"type\\\\\\\\\\\\\": 2, \\\\\\\\\\\\\"details\\\\\\\\\\\\\": {\\\\\\\\\\\\\"selectedColumn\\\\\\\\\\\\\": \\\\\\\\\\\\\"price7\\\\\\\\\\\\\"}}, \\\\\\\\\\\\\"typeProperty\\\\\\\\\\\\\": 3}, {\\\\\\\\\\\\\"column\\\\\\\\\\\\\": {\\\\\\\\\\\\\"type\\\\\\\\\\\\\": 2, \\\\\\\\\\\\\"details\\\\\\\\\\\\\": {\\\\\\\\\\\\\"selectedColumn\\\\\\\\\\\\\": \\\\\\\\\\\\\"price8\\\\\\\\\\\\\"}}, \\\\\\\\\\\\\"typeProperty\\\\\\\\\\\\\": 3}, {\\\\\\\\\\\\\"column\\\\\\\\\\\\\": {\\\\\\\\\\\\\"type\\\\\\\\\\\\\": 2, \\\\\\\\\\\\\"details\\\\\\\\\\\\\": {\\\\\\\\\\\\\"selectedColumn\\\\\\\\\\\\\": \\\\\\\\\\\\\"price9\\\\\\\\\\\\\"}}, \\\\\\\\\\\\\"typeProperty\\\\\\\\\\\\\": 3}, {\\\\\\\\\\\\\"column\\\\\\\\\\\\\": {\\\\\\\\\\\\\"type\\\\\\\\\\\\\": 2, \\\\\\\\\\\\\"details\\\\\\\\\\\\\": {\\\\\\\\\\\\\"selectedColumn\\\\\\\\\\\\\": \\\\\\\\\\\\\"price10\\\\\\\\\\\\\"}}, \\\\\\\\\\\\\"typeProperty\\\\\\\\\\\\\": 3}, {\\\\\\\\\\\\\"column\\\\\\\\\\\\\": {\\\\\\\\\\\\\"type\\\\\\\\\\\\\": 2, \\\\\\\\\\\\\"details\\\\\\\\\\\\\": {\\\\\\\\\\\\\"selectedColumn\\\\\\\\\\\\\": \\\\\\\\\\\\\"price11\\\\\\\\\\\\\"}}, \\\\\\\\\\\\\"typeProperty\\\\\\\\\\\\\": 3}, {\\\\\\\\\\\\\"column\\\\\\\\\\\\\": {\\\\\\\\\\\\\"type\\\\\\\\\\\\\": 2, \\\\\\\\\\\\\"details\\\\\\\\\\\\\": {\\\\\\\\\\\\\"selectedColumn\\\\\\\\\\\\\": \\\\\\\\\\\\\"deal\\\\\\\\\\\\\"}}, \\\\\\\\\\\\\"typeProperty\\\\\\\\\\\\\": 2}, {\\\\\\\\\\\\\"column\\\\\\\\\\\\\": {\\\\\\\\\\\\\"type\\\\\\\\\\\\\": 2, \\\\\\\\\\\\\"details\\\\\\\\\\\\\": {\\\\\\\\\\\\\"selectedColumn\\\\\\\\\\\\\": \\\\\\\\\\\\\"feat\\\\\\\\\\\\\"}}, \\\\\\\\\\\\\"typeProperty\\\\\\\\\\\\\": 3}, {\\\\\\\\\\\\\"column\\\\\\\\\\\\\": {\\\\\\\\\\\\\"type\\\\\\\\\\\\\": 2, \\\\\\\\\\\\\"details\\\\\\\\\\\\\": {\\\\\\\\\\\\\"selectedColumn\\\\\\\\\\\\\": \\\\\\\\\\\\\"profit\\\\\\\\\\\\\"}}, \\\\\\\\\\\\\"typeProperty\\\\\\\\\\\\\": 3}, {\\\\\\\\\\\\\"column\\\\\\\\\\\\\": {\\\\\\\\\\\\\"type\\\\\\\\\\\\\": 2, \\\\\\\\\\\\\"details\\\\\\\\\\\\\": {\\\\\\\\\\\\\"selectedColumn\\\\\\\\\\\\\": \\\\\\\\\\\\\"move\\\\\\\\\\\\\"}}, \\\\\\\\\\\\\"typeProperty\\\\\\\\\\\\\": 2}, {\\\\\\\\\\\\\"column\\\\\\\\\\\\\": {\\\\\\\\\\\\\"type\\\\\\\\\\\\\": 2, \\\\\\\\\\\\\"details\\\\\\\\\\\\\": {\\\\\\\\\\\\\"selectedColumn\\\\\\\\\\\\\": \\\\\\\\\\\\\"week_start\\\\\\\\\\\\\"}}, \\\\\\\\\\\\\"typeArguments\\\\\\\\\\\\\": {\\\\\\\\\\\\\"dateTimeFormats\\\\\\\\\\\\\": [\\\\\\\\\\\\\"%Y-%m-%d\\\\\\\\\\\\\"]}, \\\\\\\\\\\\\"typeProperty\\\\\\\\\\\\\": 4}]}, \\\\\\\\\\\\\"localData\\\\\\\\\\\\\": {}, \\\\\\\\\\\\\"isEnabled\\\\\\\\\\\\\": true, \\\\\\\\\\\\\"name\\\\\\\\\\\\\": null, \\\\\\\\\\\\\"annotation\\\\\\\\\\\\\": null}], \\\\\\\\\\\\\"inspectors\\\\\\\\\\\\\": [], \\\\\\\\\\\\\"meta\\\\\\\\\\\\\": {\\\\\\\\\\\\\"savedDatasetId\\\\\\\\\\\\\": \\\\\\\\\\\\\"3139d718-1e55-4620-a57b-0c641c45d8ff\\\\\\\\\\\\\", \\\\\\\\\\\\\"datasetType\\\\\\\\\\\\\": \\\\\\\\\\\\\"tabular\\\\\\\\\\\\\", \\\\\\\\\\\\\"subscriptionId\\\\\\\\\\\\\": \\\\\\\\\\\\\"7c9d382c-5964-48db-9cf6-c595c7ba4339\\\\\\\\\\\\\", \\\\\\\\\\\\\"workspaceId\\\\\\\\\\\\\": \\\\\\\\\\\\\"29736821-61ab-453c-91dc-4632d40684a5\\\\\\\\\\\\\", \\\\\\\\\\\\\"workspaceLocation\\\\\\\\\\\\\": \\\\\\\\\\\\\"eastus\\\\\\\\\\\\\"}}\\\\\", \\\\\"activities\\\\\": 0}',\n",
       "  'EnableSubsampling': 'False',\n",
       "  'runTemplate': 'AutoML',\n",
       "  'azureml.runsource': 'automl',\n",
       "  'display_task_type': 'forecasting',\n",
       "  'dependencies_versions': '{\"azureml-widgets\": \"1.5.0\", \"azureml-train\": \"1.0.85\", \"azureml-train-restclients-hyperdrive\": \"1.0.85\", \"azureml-train-core\": \"1.0.85\", \"azureml-train-automl\": \"1.5.0\", \"azureml-train-automl-runtime\": \"1.5.0\", \"azureml-train-automl-client\": \"1.0.85.4\", \"azureml-telemetry\": \"1.0.85.2\", \"azureml-sdk\": \"1.0.85\", \"azureml-pipeline\": \"1.0.85\", \"azureml-pipeline-steps\": \"1.0.85\", \"azureml-pipeline-core\": \"1.0.85.1\", \"azureml-model-management-sdk\": \"1.0.1b6.post1\", \"azureml-interpret\": \"1.5.0\", \"azureml-explain-model\": \"1.5.0\", \"azureml-defaults\": \"1.5.0\", \"azureml-dataprep\": \"1.1.38\", \"azureml-dataprep-native\": \"13.2.0\", \"azureml-core\": \"1.0.85.6\", \"azureml-contrib-notebook\": \"1.5.0\", \"azureml-automl-runtime\": \"1.5.0.post1\", \"azureml-automl-core\": \"1.0.85.5\"}',\n",
       "  'ClientSdkVersion': '1.0.85',\n",
       "  'ClientType': 'SDK',\n",
       "  'environment_cpu_name': '',\n",
       "  'environment_cpu_version': '',\n",
       "  'environment_gpu_name': '',\n",
       "  'environment_gpu_version': '',\n",
       "  'root_attribution': 'AutoML',\n",
       "  'attribution': 'AutoML',\n",
       "  'CancelUri': 'https://eastus.experiments.azureml.net/jasmine/v1.0/subscriptions/7c9d382c-5964-48db-9cf6-c595c7ba4339/resourceGroups/novanta-mdw-rg/providers/Microsoft.MachineLearningServices/workspaces/novanta-mdw-aml/experiment/automl-ojforecasting-test/cancel/AutoML_12ee1cb2-3442-4092-a09e-b5a06647b845',\n",
       "  'Orchestrator': 'AutoML',\n",
       "  'azureml.git.repository_uri': 'git@github.com:kawo123/learning-ai.git',\n",
       "  'mlflow.source.git.repoURL': 'git@github.com:kawo123/learning-ai.git',\n",
       "  'azureml.git.branch': 'master',\n",
       "  'mlflow.source.git.branch': 'master',\n",
       "  'azureml.git.commit': '797d6512d5304e46b75468eb203ee833442437da',\n",
       "  'mlflow.source.git.commit': '797d6512d5304e46b75468eb203ee833442437da',\n",
       "  'azureml.git.dirty': 'True',\n",
       "  'SetupRunId': 'AutoML_12ee1cb2-3442-4092-a09e-b5a06647b845_setup',\n",
       "  'SetupRunContainerId': 'dcid.AutoML_12ee1cb2-3442-4092-a09e-b5a06647b845_setup',\n",
       "  'ProblemInfoJsonString': '{\"dataset_num_categorical\": 0, \"is_sparse\": false, \"subsampling\": false, \"dataset_classes\": 595, \"dataset_features\": 39, \"dataset_samples\": 2981, \"single_frequency_class_detected\": false}'},\n",
       " 'inputDatasets': [{'dataset': {'id': '3139d718-1e55-4620-a57b-0c641c45d8ff'}, 'consumptionDetails': {'type': 'RunInput', 'inputName': 'training_data', 'mechanism': 'Direct'}}],\n",
       " 'logFiles': {}}"
      ]
     },
     "execution_count": 15,
     "metadata": {},
     "output_type": "execute_result"
    }
   ],
   "source": [
    "remote_run.wait_for_completion()"
   ]
  },
  {
   "cell_type": "markdown",
   "metadata": {},
   "source": [
    "### Retrieve the best model\n",
    "\n",
    "Each run within an Experiment stores serialized (i.e. pickled) pipelines from the AutoML iterations. After the training job is done, we can retrieve the pipeline with the best performance on the validation dataset."
   ]
  },
  {
   "cell_type": "code",
   "execution_count": null,
   "metadata": {},
   "outputs": [],
   "source": [
    "best_run, fitted_model = remote_run.get_output()\n",
    "print(fitted_model.steps)"
   ]
  },
  {
   "cell_type": "markdown",
   "metadata": {},
   "source": [
    "## Additional Reading\n",
    "\n",
    "\\[1\\] Nicolo Fusi, Rishit Sheth, and Melih Elibol. 2018. Probabilistic Matrix Factorization for Automated Machine Learning. In Advances in Neural Information Processing Systems. 3348-3357.<br>\n",
    "\\[2\\] Azure AutoML Package Docs: https://docs.microsoft.com/en-us/python/api/azureml-train-automl/azureml.train.automl?view=azure-ml-py <br>\n",
    "\\[3\\] Azure Automated Machine Learning Examples: https://github.com/Azure/MachineLearningNotebooks/tree/master/how-to-use-azureml/automated-machine-learning <br>\n",
    "\n",
    "\n"
   ]
  }
 ],
 "metadata": {
  "author_info": {
   "affiliation": "Microsoft",
   "created_by": "Chenhui Hu"
  },
  "kernelspec": {
   "display_name": "Python 3",
   "language": "python",
   "name": "python3"
  },
  "language_info": {
   "codemirror_mode": {
    "name": "ipython",
    "version": 3
   },
   "file_extension": ".py",
   "mimetype": "text/x-python",
   "name": "python",
   "nbconvert_exporter": "python",
   "pygments_lexer": "ipython3",
   "version": "3.6.9"
  }
 },
 "nbformat": 4,
 "nbformat_minor": 4
}
